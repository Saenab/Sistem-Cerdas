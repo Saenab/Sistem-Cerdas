{
  "nbformat": 4,
  "nbformat_minor": 0,
  "metadata": {
    "colab": {
      "name": "Tugas 2 Sistem Cerdas.ipynb",
      "provenance": [],
      "collapsed_sections": []
    },
    "kernelspec": {
      "name": "python3",
      "display_name": "Python 3"
    },
    "language_info": {
      "name": "python"
    }
  },
  "cells": [
    {
      "cell_type": "markdown",
      "metadata": {
        "id": "vQxG1pNZv9wY"
      },
      "source": [
        "1. carilah contoh koding (di internet) yang men-simulasikan algoritma BFS, DFS dan UCS. copy ke drive-google anda dan bagikan link-nya.\n",
        "\n",
        "2. eksekusi koding itu dan laporkan hasil eksekusinya\n",
        "\n",
        "3. modifikasi koding itu sehingga bisa mencari rute beberapa kota di sekitar kota tempat-tinggal anda. laporkan hasil implementasi/eksekusi-nya"
      ]
    },
    {
      "cell_type": "markdown",
      "metadata": {
        "id": "bdhekceUvdQn"
      },
      "source": [
        "**BSF**"
      ]
    },
    {
      "cell_type": "code",
      "metadata": {
        "colab": {
          "base_uri": "https://localhost:8080/"
        },
        "id": "a34nlOgXVAdk",
        "outputId": "7d415813-665d-4ad6-e0ba-6f6bf57021ed"
      },
      "source": [
        "# BFS algorithm in Python\n",
        "\n",
        "\n",
        "import collections\n",
        "\n",
        "# BFS algorithm\n",
        "def bfs(graph, root):\n",
        "\n",
        "    visited, queue = set(), collections.deque([root])\n",
        "    visited.add(root)\n",
        "\n",
        "    while queue:\n",
        "\n",
        "        # Dequeue a vertex from queue\n",
        "        vertex = queue.popleft()\n",
        "        print(str(vertex) + \" \", end=\"\")\n",
        "\n",
        "        # If not visited, mark it as visited, and\n",
        "        # enqueue it\n",
        "        for neighbour in graph[vertex]:\n",
        "            if neighbour not in visited:\n",
        "                visited.add(neighbour)\n",
        "                queue.append(neighbour)\n",
        "\n",
        "\n",
        "if __name__ == '__main__':\n",
        "    graph = {0: [1, 2], 1: [2], 2: [3], 3: [1, 2]}\n",
        "    print(\"Following is Breadth First Traversal: \")\n",
        "    bfs(graph, 0)"
      ],
      "execution_count": 2,
      "outputs": [
        {
          "output_type": "stream",
          "name": "stdout",
          "text": [
            "Following is Breadth First Traversal: \n",
            "0 1 2 3 "
          ]
        }
      ]
    },
    {
      "cell_type": "markdown",
      "metadata": {
        "id": "P1_0jBY4vkA3"
      },
      "source": [
        "**BSF** **Modif**"
      ]
    },
    {
      "cell_type": "code",
      "metadata": {
        "colab": {
          "base_uri": "https://localhost:8080/"
        },
        "id": "zC-TCwidm80_",
        "outputId": "cad777d1-a8c9-4e16-a05c-d1fbb9f92828"
      },
      "source": [
        "graph = {\n",
        "  'Makassar' : ['Maros','Takalar'],\n",
        "  'Maros' : ['Makassar', 'Pangkep'],\n",
        "  'Pangkep' : ['Maros', 'Bulukumba'],\n",
        "  'Takalar' : ['Makassar' , 'Jeneponto'],\n",
        "  'Jeneponto' : ['Takalar' , 'Bantaeng'],\n",
        "  'Bantaeng'    : ['Jeneponto' , 'Bulukumba'],\n",
        "  'Bulukumba' : ['Pangkep' , 'Bantaeng']\n",
        "}\n",
        "\n",
        "visited = [] # List for visited nodes.\n",
        "queue = []     #Initialize a queue\n",
        "\n",
        "def bfs(visited, graph, node): #function for BFS\n",
        "  visited.append(node)\n",
        "  queue.append(node)\n",
        "\n",
        "  while queue:          # Creating loop to visit each node\n",
        "    m = queue.pop(0) \n",
        "    print (m, end = \" \") \n",
        "\n",
        "    for neighbour in graph[m]:\n",
        "      if neighbour not in visited:\n",
        "        visited.append(neighbour)\n",
        "        queue.append(neighbour)\n",
        "\n",
        "# Driver Code\n",
        "print(\"Following is the Breadth-First Search\")\n",
        "bfs(visited, graph, 'Makassar')    # function calling"
      ],
      "execution_count": 9,
      "outputs": [
        {
          "output_type": "stream",
          "name": "stdout",
          "text": [
            "Following is the Breadth-First Search\n",
            "Makassar Maros Takalar Pangkep Jeneponto Bulukumba Bantaeng "
          ]
        }
      ]
    },
    {
      "cell_type": "markdown",
      "metadata": {
        "id": "uJ18LtxMvP4t"
      },
      "source": [
        "**DFS**"
      ]
    },
    {
      "cell_type": "code",
      "metadata": {
        "colab": {
          "base_uri": "https://localhost:8080/"
        },
        "id": "5jToDRGKYNn0",
        "outputId": "2bfffdbe-255b-4475-8e82-ae5ad5af44d3"
      },
      "source": [
        "# DFS algorithm in Python\n",
        "\n",
        "\n",
        "# DFS algorithm\n",
        "def dfs(graph, start, visited=None):\n",
        "    if visited is None:\n",
        "        visited = set()\n",
        "    visited.add(start)\n",
        "\n",
        "    print(start)\n",
        "\n",
        "    for next in graph[start] - visited:\n",
        "        dfs(graph, next, visited)\n",
        "    return visited\n",
        "\n",
        "\n",
        "graph = {'0': set(['1', '2']),\n",
        "         '1': set(['0', '3', '4']),\n",
        "         '2': set(['0']),\n",
        "         '3': set(['1']),\n",
        "         '4': set(['2', '3'])}\n",
        "\n",
        "dfs(graph, '0')"
      ],
      "execution_count": 4,
      "outputs": [
        {
          "output_type": "stream",
          "name": "stdout",
          "text": [
            "0\n",
            "2\n",
            "1\n",
            "3\n",
            "4\n"
          ]
        },
        {
          "output_type": "execute_result",
          "data": {
            "text/plain": [
              "{'0', '1', '2', '3', '4'}"
            ]
          },
          "metadata": {},
          "execution_count": 4
        }
      ]
    },
    {
      "cell_type": "markdown",
      "metadata": {
        "id": "NOLxZxBtvVNP"
      },
      "source": [
        "**DFS Modif**"
      ]
    },
    {
      "cell_type": "code",
      "metadata": {
        "colab": {
          "base_uri": "https://localhost:8080/"
        },
        "id": "Y5mllNcHriD7",
        "outputId": "18efd303-c983-4e41-b0a5-fe0b756e4d18"
      },
      "source": [
        "graph = {\n",
        "  'Makassar' : ['Maros','Takalar'],\n",
        "  'Maros' : ['Makassar', 'Pangkep'],\n",
        "  'Pangkep' : ['Maros', 'Bulukumba'],\n",
        "  'Takalar' : ['Makassar' , 'Jeneponto'],\n",
        "  'Jeneponto' : ['Takalar' , 'Bantaeng'],\n",
        "  'Bantaeng'    : ['Jeneponto' , 'Bulukumba'],\n",
        "  'Bulukumba' : ['Pangkep' , 'Bantaeng']\n",
        "}\n",
        "visited = set() # Set to keep track of visited nodes of graph.\n",
        "\n",
        "def dfs(visited, graph, node):  #function for dfs \n",
        "    if node not in visited:\n",
        "        print (node)\n",
        "        visited.add(node)\n",
        "        for neighbour in graph[node]:\n",
        "            dfs(visited, graph, neighbour)\n",
        "\n",
        "# Driver Code\n",
        "print(\"Following is the Depth-First Search\")\n",
        "dfs(visited, graph, 'Makassar')"
      ],
      "execution_count": 11,
      "outputs": [
        {
          "output_type": "stream",
          "name": "stdout",
          "text": [
            "Following is the Depth-First Search\n",
            "Makassar\n",
            "Maros\n",
            "Pangkep\n",
            "Bulukumba\n",
            "Bantaeng\n",
            "Jeneponto\n",
            "Takalar\n"
          ]
        }
      ]
    },
    {
      "cell_type": "markdown",
      "metadata": {
        "id": "qXre8ALwuoHJ"
      },
      "source": [
        "**UCS** "
      ]
    },
    {
      "cell_type": "code",
      "metadata": {
        "colab": {
          "base_uri": "https://localhost:8080/"
        },
        "id": "s4LdlKlommPw",
        "outputId": "3ef92552-f0f6-462a-e735-615374bdb4c3"
      },
      "source": [
        "from collections import defaultdict\n",
        "from queue import PriorityQueue\n",
        "\n",
        "class Graph:\n",
        "    def __init__(self, directed): \n",
        "        \"\"\"Parametrized constructor of class Graph \n",
        "        which takes True if Graph is directed otherwise it takes False\"\"\"\n",
        "        self.graph =  defaultdict(list)\n",
        "        self.directed = directed\n",
        "\n",
        "    def add_edge(self, u, v, weight):\n",
        "        \"\"\"Add Edges between two nodes along \n",
        "        with weight as Algorithm is of UCS\"\"\"\n",
        "        if self.directed:\n",
        "            value = (weight, v)\n",
        "            self.graph[u].append(value)\n",
        "        else:\n",
        "            value = (weight, v)\n",
        "            self.graph[u].append(value)\n",
        "            value = (weight, u)\n",
        "            self.graph[v].append(value)\n",
        "\n",
        "    def ucs(self, current_node, goal_node):\n",
        "        \"\"\"It takes starting node and \n",
        "        goal node as parameters then it returns \n",
        "        a path using Uniform Cost Search Algorithm\"\"\"\n",
        "        visited = []  \n",
        "        queue = PriorityQueue()\n",
        "        queue.put((0, current_node))\n",
        "        \n",
        "        while not queue.empty():\n",
        "            item = queue.get()\n",
        "            current_node =  item[1]\n",
        "            \n",
        "            if current_node == goal_node:\n",
        "                print(current_node, end = \" \")\n",
        "                queue.queue.clear()\n",
        "            else:\n",
        "                if current_node in visited:\n",
        "                    continue\n",
        "                    \n",
        "                print(current_node, end = \" \")\n",
        "                visited.append(current_node)\n",
        "\n",
        "                for neighbour in self.graph[current_node]:\n",
        "                        queue.put((neighbour[0], neighbour[1]))\n",
        "g = Graph(False)\n",
        "\n",
        "g.graph =  defaultdict(list)\n",
        "g.add_edge('S', 'A', 1)\n",
        "g.add_edge('S', 'G', 12)\n",
        "g.add_edge('A', 'B', 3)\n",
        "g.add_edge('A', 'C', 1)\n",
        "g.add_edge('C', 'D', 1)\n",
        "g.add_edge('B', 'D', 3)\n",
        "g.add_edge('C', 'G', 2)\n",
        "g.add_edge('D', 'G', 3)\n",
        "\n",
        "g.graph\n",
        "\n",
        "defaultdict(list,\n",
        "            {'S': [(1, 'A'), (12, 'G')],\n",
        "             'A': [(1, 'S'), (3, 'B'), (1, 'C')],\n",
        "             'G': [(12, 'S'), (2, 'C'), (3, 'D')],\n",
        "             'B': [(3, 'A'), (3, 'D')],\n",
        "             'C': [(1, 'A'), (1, 'D'), (2, 'G')],\n",
        "             'D': [(1, 'C'), (3, 'B'), (3, 'G')]})\n",
        "\n",
        "g.ucs('S', 'G')\n"
      ],
      "execution_count": 5,
      "outputs": [
        {
          "output_type": "stream",
          "name": "stdout",
          "text": [
            "S A C D G "
          ]
        }
      ]
    },
    {
      "cell_type": "markdown",
      "metadata": {
        "id": "7pipQWFCvHUJ"
      },
      "source": [
        "**UCS Modif**"
      ]
    },
    {
      "cell_type": "code",
      "metadata": {
        "colab": {
          "base_uri": "https://localhost:8080/"
        },
        "id": "B2XAJwSvr92q",
        "outputId": "1440467f-c046-42b3-8bcf-11af4508def0"
      },
      "source": [
        "from collections import defaultdict\n",
        "from queue import PriorityQueue\n",
        "\n",
        "class Graph:\n",
        "    def __init__(self, directed): \n",
        "        \"\"\"Parametrized constructor of class Graph \n",
        "        which takes True if Graph is directed otherwise it takes False\"\"\"\n",
        "        self.graph =  defaultdict(list)\n",
        "        self.directed = directed\n",
        "\n",
        "    def add_edge(self, u, v, weight):\n",
        "        \"\"\"Add Edges between two nodes along \n",
        "        with weight as Algorithm is of UCS\"\"\"\n",
        "        if self.directed:\n",
        "            value = (weight, v)\n",
        "            self.graph[u].append(value)\n",
        "        else:\n",
        "            value = (weight, v)\n",
        "            self.graph[u].append(value)\n",
        "            value = (weight, u)\n",
        "            self.graph[v].append(value)\n",
        "\n",
        "    def ucs(self, current_node, goal_node):\n",
        "        \"\"\"It takes starting node and \n",
        "        goal node as parameters then it returns \n",
        "        a path using Uniform Cost Search Algorithm\"\"\"\n",
        "        visited = []  \n",
        "        queue = PriorityQueue()\n",
        "        queue.put((0, current_node))\n",
        "        \n",
        "        while not queue.empty():\n",
        "            item = queue.get()\n",
        "            current_node =  item[1]\n",
        "            \n",
        "            if current_node == goal_node:\n",
        "                print(current_node, end = \" \")\n",
        "                queue.queue.clear()\n",
        "            else:\n",
        "                if current_node in visited:\n",
        "                    continue\n",
        "                    \n",
        "                print(current_node, end = \" \")\n",
        "                visited.append(current_node)\n",
        "\n",
        "                for neighbour in self.graph[current_node]:\n",
        "                        queue.put((neighbour[0], neighbour[1]))\n",
        "\n",
        "g = Graph(False)\n",
        "\n",
        "g.add_edge('Makassar', 'Maros', 42)\n",
        "g.add_edge('Makassar', 'Takalar', 38)\n",
        "g.add_edge('Maros', 'Pangkep', 43)\n",
        "g.add_edge('Pangkep', 'Bulukumba', 192)\n",
        "g.add_edge('Takalar', 'Jeneponto', 52)\n",
        "g.add_edge('Jeneponto', 'Bantaeng', 66)\n",
        "g.add_edge('Bantaeng', 'Bulukumba', 150)\n",
        "\n",
        "\n",
        "g.ucs('Makassar', 'Bulukumba')"
      ],
      "execution_count": 12,
      "outputs": [
        {
          "output_type": "stream",
          "name": "stdout",
          "text": [
            "Makassar Takalar Maros Pangkep Jeneponto Bantaeng Bulukumba "
          ]
        }
      ]
    }
  ]
}